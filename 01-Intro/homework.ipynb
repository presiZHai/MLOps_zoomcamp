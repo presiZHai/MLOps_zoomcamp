{
 "cells": [
  {
   "cell_type": "markdown",
   "id": "5ce347b3-9414-4038-afb5-7f4f9ae190e9",
   "metadata": {},
   "source": [
    "## Import libraries and packages"
   ]
  },
  {
   "cell_type": "code",
   "execution_count": 1,
   "id": "2c32b634-31c7-43d6-bc9f-2df873cb8e43",
   "metadata": {},
   "outputs": [],
   "source": [
    "# Import libraries and packages\n",
    "import pandas as pd\n",
    "\n",
    "import seaborn as sns\n",
    "import matplotlib.pyplot as plt\n",
    "\n",
    "from sklearn.feature_extraction import DictVectorizer\n",
    "from sklearn.linear_model import LinearRegression\n",
    "from sklearn.linear_model import Lasso\n",
    "from sklearn.linear_model import Ridge\n",
    "\n",
    "from sklearn.metrics import mean_squared_error"
   ]
  },
  {
   "cell_type": "markdown",
   "id": "b1798a17-d9cd-4da8-9285-d42f1cec0239",
   "metadata": {},
   "source": [
    "## 1. Download and read yellow taxi trips data for January 2023"
   ]
  },
  {
   "cell_type": "code",
   "execution_count": 2,
   "id": "e170f53a-660b-4370-ae04-0c1bdfbefc97",
   "metadata": {},
   "outputs": [
    {
     "data": {
      "text/html": [
       "<div>\n",
       "<style scoped>\n",
       "    .dataframe tbody tr th:only-of-type {\n",
       "        vertical-align: middle;\n",
       "    }\n",
       "\n",
       "    .dataframe tbody tr th {\n",
       "        vertical-align: top;\n",
       "    }\n",
       "\n",
       "    .dataframe thead th {\n",
       "        text-align: right;\n",
       "    }\n",
       "</style>\n",
       "<table border=\"1\" class=\"dataframe\">\n",
       "  <thead>\n",
       "    <tr style=\"text-align: right;\">\n",
       "      <th></th>\n",
       "      <th>VendorID</th>\n",
       "      <th>tpep_pickup_datetime</th>\n",
       "      <th>tpep_dropoff_datetime</th>\n",
       "      <th>passenger_count</th>\n",
       "      <th>trip_distance</th>\n",
       "      <th>RatecodeID</th>\n",
       "      <th>store_and_fwd_flag</th>\n",
       "      <th>PULocationID</th>\n",
       "      <th>DOLocationID</th>\n",
       "      <th>payment_type</th>\n",
       "      <th>fare_amount</th>\n",
       "      <th>extra</th>\n",
       "      <th>mta_tax</th>\n",
       "      <th>tip_amount</th>\n",
       "      <th>tolls_amount</th>\n",
       "      <th>improvement_surcharge</th>\n",
       "      <th>total_amount</th>\n",
       "      <th>congestion_surcharge</th>\n",
       "      <th>airport_fee</th>\n",
       "    </tr>\n",
       "  </thead>\n",
       "  <tbody>\n",
       "    <tr>\n",
       "      <th>0</th>\n",
       "      <td>2</td>\n",
       "      <td>2023-01-01 00:32:10</td>\n",
       "      <td>2023-01-01 00:40:36</td>\n",
       "      <td>1.0</td>\n",
       "      <td>0.97</td>\n",
       "      <td>1.0</td>\n",
       "      <td>N</td>\n",
       "      <td>161</td>\n",
       "      <td>141</td>\n",
       "      <td>2</td>\n",
       "      <td>9.3</td>\n",
       "      <td>1.00</td>\n",
       "      <td>0.5</td>\n",
       "      <td>0.00</td>\n",
       "      <td>0.0</td>\n",
       "      <td>1.0</td>\n",
       "      <td>14.30</td>\n",
       "      <td>2.5</td>\n",
       "      <td>0.00</td>\n",
       "    </tr>\n",
       "    <tr>\n",
       "      <th>1</th>\n",
       "      <td>2</td>\n",
       "      <td>2023-01-01 00:55:08</td>\n",
       "      <td>2023-01-01 01:01:27</td>\n",
       "      <td>1.0</td>\n",
       "      <td>1.10</td>\n",
       "      <td>1.0</td>\n",
       "      <td>N</td>\n",
       "      <td>43</td>\n",
       "      <td>237</td>\n",
       "      <td>1</td>\n",
       "      <td>7.9</td>\n",
       "      <td>1.00</td>\n",
       "      <td>0.5</td>\n",
       "      <td>4.00</td>\n",
       "      <td>0.0</td>\n",
       "      <td>1.0</td>\n",
       "      <td>16.90</td>\n",
       "      <td>2.5</td>\n",
       "      <td>0.00</td>\n",
       "    </tr>\n",
       "    <tr>\n",
       "      <th>2</th>\n",
       "      <td>2</td>\n",
       "      <td>2023-01-01 00:25:04</td>\n",
       "      <td>2023-01-01 00:37:49</td>\n",
       "      <td>1.0</td>\n",
       "      <td>2.51</td>\n",
       "      <td>1.0</td>\n",
       "      <td>N</td>\n",
       "      <td>48</td>\n",
       "      <td>238</td>\n",
       "      <td>1</td>\n",
       "      <td>14.9</td>\n",
       "      <td>1.00</td>\n",
       "      <td>0.5</td>\n",
       "      <td>15.00</td>\n",
       "      <td>0.0</td>\n",
       "      <td>1.0</td>\n",
       "      <td>34.90</td>\n",
       "      <td>2.5</td>\n",
       "      <td>0.00</td>\n",
       "    </tr>\n",
       "    <tr>\n",
       "      <th>3</th>\n",
       "      <td>1</td>\n",
       "      <td>2023-01-01 00:03:48</td>\n",
       "      <td>2023-01-01 00:13:25</td>\n",
       "      <td>0.0</td>\n",
       "      <td>1.90</td>\n",
       "      <td>1.0</td>\n",
       "      <td>N</td>\n",
       "      <td>138</td>\n",
       "      <td>7</td>\n",
       "      <td>1</td>\n",
       "      <td>12.1</td>\n",
       "      <td>7.25</td>\n",
       "      <td>0.5</td>\n",
       "      <td>0.00</td>\n",
       "      <td>0.0</td>\n",
       "      <td>1.0</td>\n",
       "      <td>20.85</td>\n",
       "      <td>0.0</td>\n",
       "      <td>1.25</td>\n",
       "    </tr>\n",
       "    <tr>\n",
       "      <th>4</th>\n",
       "      <td>2</td>\n",
       "      <td>2023-01-01 00:10:29</td>\n",
       "      <td>2023-01-01 00:21:19</td>\n",
       "      <td>1.0</td>\n",
       "      <td>1.43</td>\n",
       "      <td>1.0</td>\n",
       "      <td>N</td>\n",
       "      <td>107</td>\n",
       "      <td>79</td>\n",
       "      <td>1</td>\n",
       "      <td>11.4</td>\n",
       "      <td>1.00</td>\n",
       "      <td>0.5</td>\n",
       "      <td>3.28</td>\n",
       "      <td>0.0</td>\n",
       "      <td>1.0</td>\n",
       "      <td>19.68</td>\n",
       "      <td>2.5</td>\n",
       "      <td>0.00</td>\n",
       "    </tr>\n",
       "  </tbody>\n",
       "</table>\n",
       "</div>"
      ],
      "text/plain": [
       "   VendorID tpep_pickup_datetime tpep_dropoff_datetime  passenger_count  \\\n",
       "0         2  2023-01-01 00:32:10   2023-01-01 00:40:36              1.0   \n",
       "1         2  2023-01-01 00:55:08   2023-01-01 01:01:27              1.0   \n",
       "2         2  2023-01-01 00:25:04   2023-01-01 00:37:49              1.0   \n",
       "3         1  2023-01-01 00:03:48   2023-01-01 00:13:25              0.0   \n",
       "4         2  2023-01-01 00:10:29   2023-01-01 00:21:19              1.0   \n",
       "\n",
       "   trip_distance  RatecodeID store_and_fwd_flag  PULocationID  DOLocationID  \\\n",
       "0           0.97         1.0                  N           161           141   \n",
       "1           1.10         1.0                  N            43           237   \n",
       "2           2.51         1.0                  N            48           238   \n",
       "3           1.90         1.0                  N           138             7   \n",
       "4           1.43         1.0                  N           107            79   \n",
       "\n",
       "   payment_type  fare_amount  extra  mta_tax  tip_amount  tolls_amount  \\\n",
       "0             2          9.3   1.00      0.5        0.00           0.0   \n",
       "1             1          7.9   1.00      0.5        4.00           0.0   \n",
       "2             1         14.9   1.00      0.5       15.00           0.0   \n",
       "3             1         12.1   7.25      0.5        0.00           0.0   \n",
       "4             1         11.4   1.00      0.5        3.28           0.0   \n",
       "\n",
       "   improvement_surcharge  total_amount  congestion_surcharge  airport_fee  \n",
       "0                    1.0         14.30                   2.5         0.00  \n",
       "1                    1.0         16.90                   2.5         0.00  \n",
       "2                    1.0         34.90                   2.5         0.00  \n",
       "3                    1.0         20.85                   0.0         1.25  \n",
       "4                    1.0         19.68                   2.5         0.00  "
      ]
     },
     "execution_count": 2,
     "metadata": {},
     "output_type": "execute_result"
    }
   ],
   "source": [
    "# Read yellow taxi trips data\n",
    "df = pd.read_parquet('https://d37ci6vzurychx.cloudfront.net/trip-data/yellow_tripdata_2023-01.parquet')\n",
    "df.head()"
   ]
  },
  {
   "cell_type": "code",
   "execution_count": 3,
   "id": "5bf52d75-9a34-4b57-ad10-06c6cfa2a5a1",
   "metadata": {},
   "outputs": [
    {
     "name": "stdout",
     "output_type": "stream",
     "text": [
      "(3066766, 19)\n",
      "<class 'pandas.core.frame.DataFrame'>\n",
      "RangeIndex: 3066766 entries, 0 to 3066765\n",
      "Data columns (total 19 columns):\n",
      " #   Column                 Dtype         \n",
      "---  ------                 -----         \n",
      " 0   VendorID               int64         \n",
      " 1   tpep_pickup_datetime   datetime64[us]\n",
      " 2   tpep_dropoff_datetime  datetime64[us]\n",
      " 3   passenger_count        float64       \n",
      " 4   trip_distance          float64       \n",
      " 5   RatecodeID             float64       \n",
      " 6   store_and_fwd_flag     object        \n",
      " 7   PULocationID           int64         \n",
      " 8   DOLocationID           int64         \n",
      " 9   payment_type           int64         \n",
      " 10  fare_amount            float64       \n",
      " 11  extra                  float64       \n",
      " 12  mta_tax                float64       \n",
      " 13  tip_amount             float64       \n",
      " 14  tolls_amount           float64       \n",
      " 15  improvement_surcharge  float64       \n",
      " 16  total_amount           float64       \n",
      " 17  congestion_surcharge   float64       \n",
      " 18  airport_fee            float64       \n",
      "dtypes: datetime64[us](2), float64(12), int64(4), object(1)\n",
      "memory usage: 444.6+ MB\n",
      "The number of columns for yellow taxi trip records data are 19\n"
     ]
    }
   ],
   "source": [
    "print(df.shape)\n",
    "df.info()\n",
    "print(f\"The number of columns for yellow taxi trip records data are {df.shape[1]}\")"
   ]
  },
  {
   "cell_type": "markdown",
   "id": "5a4bfcdd-c1ce-4db2-8d2c-aaac9335c9d6",
   "metadata": {},
   "source": [
    "### The number of columns for yellow taxi trip records data in Jan 2023 are 19"
   ]
  },
  {
   "cell_type": "markdown",
   "id": "62f4822b-d899-4cb1-8543-2835756926ec",
   "metadata": {},
   "source": [
    "## 2. Computing trips duration\n",
    "* Calculate the trip duration by subtracting pickup time from drop-off time, and then convert them to minutes."
   ]
  },
  {
   "cell_type": "code",
   "execution_count": 4,
   "id": "13af634f-3922-47f3-b549-13a3024807bb",
   "metadata": {},
   "outputs": [
    {
     "name": "stdout",
     "output_type": "stream",
     "text": [
      "(3066766, 20)\n",
      "The total number of observations is 3066766\n"
     ]
    },
    {
     "data": {
      "text/html": [
       "<div>\n",
       "<style scoped>\n",
       "    .dataframe tbody tr th:only-of-type {\n",
       "        vertical-align: middle;\n",
       "    }\n",
       "\n",
       "    .dataframe tbody tr th {\n",
       "        vertical-align: top;\n",
       "    }\n",
       "\n",
       "    .dataframe thead th {\n",
       "        text-align: right;\n",
       "    }\n",
       "</style>\n",
       "<table border=\"1\" class=\"dataframe\">\n",
       "  <thead>\n",
       "    <tr style=\"text-align: right;\">\n",
       "      <th></th>\n",
       "      <th>VendorID</th>\n",
       "      <th>tpep_pickup_datetime</th>\n",
       "      <th>tpep_dropoff_datetime</th>\n",
       "      <th>passenger_count</th>\n",
       "      <th>trip_distance</th>\n",
       "      <th>RatecodeID</th>\n",
       "      <th>store_and_fwd_flag</th>\n",
       "      <th>PULocationID</th>\n",
       "      <th>DOLocationID</th>\n",
       "      <th>payment_type</th>\n",
       "      <th>fare_amount</th>\n",
       "      <th>extra</th>\n",
       "      <th>mta_tax</th>\n",
       "      <th>tip_amount</th>\n",
       "      <th>tolls_amount</th>\n",
       "      <th>improvement_surcharge</th>\n",
       "      <th>total_amount</th>\n",
       "      <th>congestion_surcharge</th>\n",
       "      <th>airport_fee</th>\n",
       "      <th>duration</th>\n",
       "    </tr>\n",
       "  </thead>\n",
       "  <tbody>\n",
       "    <tr>\n",
       "      <th>0</th>\n",
       "      <td>2</td>\n",
       "      <td>2023-01-01 00:32:10</td>\n",
       "      <td>2023-01-01 00:40:36</td>\n",
       "      <td>1.0</td>\n",
       "      <td>0.97</td>\n",
       "      <td>1.0</td>\n",
       "      <td>N</td>\n",
       "      <td>161</td>\n",
       "      <td>141</td>\n",
       "      <td>2</td>\n",
       "      <td>9.3</td>\n",
       "      <td>1.00</td>\n",
       "      <td>0.5</td>\n",
       "      <td>0.00</td>\n",
       "      <td>0.0</td>\n",
       "      <td>1.0</td>\n",
       "      <td>14.30</td>\n",
       "      <td>2.5</td>\n",
       "      <td>0.00</td>\n",
       "      <td>8.433333</td>\n",
       "    </tr>\n",
       "    <tr>\n",
       "      <th>1</th>\n",
       "      <td>2</td>\n",
       "      <td>2023-01-01 00:55:08</td>\n",
       "      <td>2023-01-01 01:01:27</td>\n",
       "      <td>1.0</td>\n",
       "      <td>1.10</td>\n",
       "      <td>1.0</td>\n",
       "      <td>N</td>\n",
       "      <td>43</td>\n",
       "      <td>237</td>\n",
       "      <td>1</td>\n",
       "      <td>7.9</td>\n",
       "      <td>1.00</td>\n",
       "      <td>0.5</td>\n",
       "      <td>4.00</td>\n",
       "      <td>0.0</td>\n",
       "      <td>1.0</td>\n",
       "      <td>16.90</td>\n",
       "      <td>2.5</td>\n",
       "      <td>0.00</td>\n",
       "      <td>6.316667</td>\n",
       "    </tr>\n",
       "    <tr>\n",
       "      <th>2</th>\n",
       "      <td>2</td>\n",
       "      <td>2023-01-01 00:25:04</td>\n",
       "      <td>2023-01-01 00:37:49</td>\n",
       "      <td>1.0</td>\n",
       "      <td>2.51</td>\n",
       "      <td>1.0</td>\n",
       "      <td>N</td>\n",
       "      <td>48</td>\n",
       "      <td>238</td>\n",
       "      <td>1</td>\n",
       "      <td>14.9</td>\n",
       "      <td>1.00</td>\n",
       "      <td>0.5</td>\n",
       "      <td>15.00</td>\n",
       "      <td>0.0</td>\n",
       "      <td>1.0</td>\n",
       "      <td>34.90</td>\n",
       "      <td>2.5</td>\n",
       "      <td>0.00</td>\n",
       "      <td>12.750000</td>\n",
       "    </tr>\n",
       "    <tr>\n",
       "      <th>3</th>\n",
       "      <td>1</td>\n",
       "      <td>2023-01-01 00:03:48</td>\n",
       "      <td>2023-01-01 00:13:25</td>\n",
       "      <td>0.0</td>\n",
       "      <td>1.90</td>\n",
       "      <td>1.0</td>\n",
       "      <td>N</td>\n",
       "      <td>138</td>\n",
       "      <td>7</td>\n",
       "      <td>1</td>\n",
       "      <td>12.1</td>\n",
       "      <td>7.25</td>\n",
       "      <td>0.5</td>\n",
       "      <td>0.00</td>\n",
       "      <td>0.0</td>\n",
       "      <td>1.0</td>\n",
       "      <td>20.85</td>\n",
       "      <td>0.0</td>\n",
       "      <td>1.25</td>\n",
       "      <td>9.616667</td>\n",
       "    </tr>\n",
       "    <tr>\n",
       "      <th>4</th>\n",
       "      <td>2</td>\n",
       "      <td>2023-01-01 00:10:29</td>\n",
       "      <td>2023-01-01 00:21:19</td>\n",
       "      <td>1.0</td>\n",
       "      <td>1.43</td>\n",
       "      <td>1.0</td>\n",
       "      <td>N</td>\n",
       "      <td>107</td>\n",
       "      <td>79</td>\n",
       "      <td>1</td>\n",
       "      <td>11.4</td>\n",
       "      <td>1.00</td>\n",
       "      <td>0.5</td>\n",
       "      <td>3.28</td>\n",
       "      <td>0.0</td>\n",
       "      <td>1.0</td>\n",
       "      <td>19.68</td>\n",
       "      <td>2.5</td>\n",
       "      <td>0.00</td>\n",
       "      <td>10.833333</td>\n",
       "    </tr>\n",
       "  </tbody>\n",
       "</table>\n",
       "</div>"
      ],
      "text/plain": [
       "   VendorID tpep_pickup_datetime tpep_dropoff_datetime  passenger_count  \\\n",
       "0         2  2023-01-01 00:32:10   2023-01-01 00:40:36              1.0   \n",
       "1         2  2023-01-01 00:55:08   2023-01-01 01:01:27              1.0   \n",
       "2         2  2023-01-01 00:25:04   2023-01-01 00:37:49              1.0   \n",
       "3         1  2023-01-01 00:03:48   2023-01-01 00:13:25              0.0   \n",
       "4         2  2023-01-01 00:10:29   2023-01-01 00:21:19              1.0   \n",
       "\n",
       "   trip_distance  RatecodeID store_and_fwd_flag  PULocationID  DOLocationID  \\\n",
       "0           0.97         1.0                  N           161           141   \n",
       "1           1.10         1.0                  N            43           237   \n",
       "2           2.51         1.0                  N            48           238   \n",
       "3           1.90         1.0                  N           138             7   \n",
       "4           1.43         1.0                  N           107            79   \n",
       "\n",
       "   payment_type  fare_amount  extra  mta_tax  tip_amount  tolls_amount  \\\n",
       "0             2          9.3   1.00      0.5        0.00           0.0   \n",
       "1             1          7.9   1.00      0.5        4.00           0.0   \n",
       "2             1         14.9   1.00      0.5       15.00           0.0   \n",
       "3             1         12.1   7.25      0.5        0.00           0.0   \n",
       "4             1         11.4   1.00      0.5        3.28           0.0   \n",
       "\n",
       "   improvement_surcharge  total_amount  congestion_surcharge  airport_fee  \\\n",
       "0                    1.0         14.30                   2.5         0.00   \n",
       "1                    1.0         16.90                   2.5         0.00   \n",
       "2                    1.0         34.90                   2.5         0.00   \n",
       "3                    1.0         20.85                   0.0         1.25   \n",
       "4                    1.0         19.68                   2.5         0.00   \n",
       "\n",
       "    duration  \n",
       "0   8.433333  \n",
       "1   6.316667  \n",
       "2  12.750000  \n",
       "3   9.616667  \n",
       "4  10.833333  "
      ]
     },
     "execution_count": 4,
     "metadata": {},
     "output_type": "execute_result"
    }
   ],
   "source": [
    "# Subtract the pickup time from drop-off time, and then convert to minutes\n",
    "df['duration'] = df.tpep_dropoff_datetime - df.tpep_pickup_datetime\n",
    "\n",
    "# Convert the duration from timedelta to minutes using a lambda function\n",
    "df.duration = df.duration.apply(lambda td: td.total_seconds() / 60)\n",
    "\n",
    "# Print the shape of the DataFrame\n",
    "print(df.shape)\n",
    "\n",
    "# Assign the total number of observations to a variable\n",
    "total_observations = df.shape[0]\n",
    "\n",
    "# Print the total number of observations\n",
    "print(f\"The total number of observations is {total_observations}\")\n",
    "\n",
    "# Display the first few rows of the DataFrame\n",
    "df.head()"
   ]
  },
  {
   "cell_type": "code",
   "execution_count": 5,
   "id": "38078852-6879-4bbe-8230-5c03b68c4f70",
   "metadata": {},
   "outputs": [
    {
     "name": "stdout",
     "output_type": "stream",
     "text": [
      "The standard deviation of the trip durations in January 2023 is 42.59\n"
     ]
    }
   ],
   "source": [
    "# Compute the standard deviation of the trips duration in January 2023\n",
    "std = df['duration'].describe()['std']\n",
    "print(f\"The standard deviation of the trip durations in January 2023 is {round(std, 2)}\")"
   ]
  },
  {
   "cell_type": "markdown",
   "id": "65294258-cb26-4504-96df-4ae6a9cbdb80",
   "metadata": {},
   "source": [
    "### The standard deviation of the trips duration in January 2023 is 42.59"
   ]
  },
  {
   "cell_type": "markdown",
   "id": "843d7276-60fb-4a2f-a606-9565ad0032fd",
   "metadata": {},
   "source": [
    "## 3. Remove the outliers\r\n",
    "* Drop the outliers by keeping only the trip records with durations between 1 and 60 minutes (inclusive)."
   ]
  },
  {
   "cell_type": "code",
   "execution_count": 6,
   "id": "c134ae3a-710a-4cea-81c2-da8e96b41df2",
   "metadata": {},
   "outputs": [
    {
     "name": "stdout",
     "output_type": "stream",
     "text": [
      "The number of observations without outliers is 3009173\n",
      "The fraction of the records left after dropping the outliers is 98.12%\n"
     ]
    }
   ],
   "source": [
    "# Filter the records to the trip records with durations between 1 and 60 minutes (inclusive)\n",
    "df = df[(df.duration >= 1) & (df.duration <= 60)]\n",
    "\n",
    "# Assign the number of observations left after dropping the outliers to a variable\n",
    "working_observations = df.shape[0]\n",
    "\n",
    "# Print the numbers of working observation\n",
    "print(f\"The number of observations without outliers is {working_observations}\")\n",
    "\n",
    "#  Calculate the fraction of the records left after dropping the outliers\n",
    "percentage = (working_observations / total_observations) * 100\n",
    "\n",
    "# Print the fraction of the records left after dropping the outliers\n",
    "print(f\"The fraction of the records left after dropping the outliers is {round(percentage, 2)}%\")"
   ]
  },
  {
   "cell_type": "markdown",
   "id": "c9548502-69cd-4b6b-a1d6-076f07009e45",
   "metadata": {},
   "source": [
    "### The fraction of the records left after removing the outliers is 98%"
   ]
  },
  {
   "cell_type": "markdown",
   "id": "67ace126-64ad-4f50-a78d-f0f30bcee62d",
   "metadata": {},
   "source": [
    "## 4. One-hot encoding\n",
    "* Select the two features; pickup and dropoff location IDs\n",
    "* Convert the dataframe into a list of dictionaries\n",
    "* Fit a dictionary vectorizer\n",
    "* Get a feature matrix"
   ]
  },
  {
   "cell_type": "code",
   "execution_count": 7,
   "id": "0e0d513a-144d-4ee9-8958-fa1c59f459ea",
   "metadata": {},
   "outputs": [
    {
     "name": "stdout",
     "output_type": "stream",
     "text": [
      "The shape of the feature matrix is (3009173, 515)\n",
      "The dimensionality of the feature matrix is 515\n"
     ]
    }
   ],
   "source": [
    "# Select the two features; pickup and dropoff location IDs\n",
    "categorical = ['PULocationID', 'DOLocationID']\n",
    "\n",
    "# Re-cast the ids to strings\n",
    "df[categorical] = df[categorical].astype(str)\n",
    "\n",
    "# Convert the dataframe into a list of dictionaries\n",
    "train_dicts = df[categorical].to_dict(orient='records')\n",
    "\n",
    "# Fit a dictionary vectorizer\n",
    "dv = DictVectorizer()\n",
    "\n",
    "# Get a feature matrix\n",
    "X_train = dv.fit_transform(train_dicts)\n",
    "\n",
    "# print the feature matrix\n",
    "print(f\"The shape of the feature matrix is {X_train.shape}\")\n",
    "print(f\"The dimensionality of the feature matrix is {X_train.shape[1]}\")"
   ]
  },
  {
   "cell_type": "markdown",
   "id": "3295879c-03c8-44a9-b9c5-56fe1a7e3525",
   "metadata": {},
   "source": [
    "### The dimensionality of the feature matrix 515"
   ]
  },
  {
   "cell_type": "markdown",
   "id": "014c5d4f-b671-4424-a7c8-0bcbabc82040",
   "metadata": {},
   "source": [
    "## 5. Training a model\n",
    "* Train a plain linear regression model with default parameters (feature matrix)\n",
    "* Calculate the RMSE of the model on the training data"
   ]
  },
  {
   "cell_type": "code",
   "execution_count": 8,
   "id": "62ded470-b30b-44ab-89d6-3c02f3a2bb72",
   "metadata": {},
   "outputs": [
    {
     "name": "stdout",
     "output_type": "stream",
     "text": [
      "The Root Mean Squared Error (RMSE) of the model on the training data 7.65\n"
     ]
    }
   ],
   "source": [
    "# Define the name of the target feature\n",
    "target = 'duration'\n",
    "\n",
    "# Extract the values of the target feature and assign them to y_train\n",
    "y_train = df[target].values\n",
    "\n",
    "# Instantiate Linear Regression\n",
    "lr = LinearRegression()\n",
    "\n",
    "# Train the model on the training data\n",
    "lr.fit(X_train, y_train)\n",
    "\n",
    "# Predict the target variable using the trained model\n",
    "y_pred = lr.predict(X_train)\n",
    "\n",
    "# Calculate the Root Mean Squared Error (RMSE) of the model on the training data\n",
    "rmse = mean_squared_error(y_train, y_pred, squared=False)\n",
    "\n",
    "# Print the RMSE of the model on the training data\n",
    "print(f\"The Root Mean Squared Error (RMSE) of the model on the training data {round(rmse, 2)}\")"
   ]
  },
  {
   "cell_type": "markdown",
   "id": "975790c0-5a2f-4212-bc23-fcc09b271b8f",
   "metadata": {},
   "source": [
    "### The Root Mean Squared Error (RMSE) of the model on the training data 7.64"
   ]
  },
  {
   "cell_type": "markdown",
   "id": "c97dfee7-ef5f-479d-8fd5-baeb65cf550e",
   "metadata": {},
   "source": [
    "## 6. Evaluating the model"
   ]
  },
  {
   "cell_type": "code",
   "execution_count": 9,
   "id": "4a84766a-dc69-493e-a458-512f049c0936",
   "metadata": {},
   "outputs": [],
   "source": [
    "# Download and read the yellow taxi trips records for Jan and Feb 2023\n",
    "def read_dataframe(filename):\n",
    "    if filename.endswith('.parquet'):\n",
    "        df = pd.read_parquet(filename)\n",
    "    else:\n",
    "        raise ValueError(\"Unsupported file format. Only Parquet files are supported.\")\n",
    "\n",
    "    # Convert pickup and dropoff datetimes to pandas datetime objects\n",
    "    df['tpep_dropoff_datetime'] = pd.to_datetime(df['tpep_dropoff_datetime'])\n",
    "    df['tpep_pickup_datetime'] = pd.to_datetime(df['tpep_pickup_datetime'])\n",
    "\n",
    "    # Calculate trip duration in minutes\n",
    "    df['duration'] = (df['tpep_dropoff_datetime'] - df['tpep_pickup_datetime']).dt.total_seconds() / 60\n",
    "\n",
    "    # Filter out trips with duration less than 1 minute or greater than 60 minutes\n",
    "    df = df[(df['duration'] >= 1) & (df['duration'] <= 60)]\n",
    "\n",
    "    # Convert categorical columns to strings\n",
    "    categorical = ['PULocationID', 'DOLocationID']\n",
    "    df[categorical] = df[categorical].astype(str)\n",
    "\n",
    "    return df"
   ]
  },
  {
   "cell_type": "code",
   "execution_count": 10,
   "id": "326059b7-eff5-4630-b51a-44af700d4165",
   "metadata": {},
   "outputs": [
    {
     "data": {
      "text/plain": [
       "(3009173, 2855951)"
      ]
     },
     "execution_count": 10,
     "metadata": {},
     "output_type": "execute_result"
    }
   ],
   "source": [
    "# Read the training and validation DataFrames from the yellow taxi trips data URLs for Jan and Feb 2023 respectively\n",
    "df_train = read_dataframe('https://d37ci6vzurychx.cloudfront.net/trip-data/yellow_tripdata_2023-01.parquet')\n",
    "df_val = read_dataframe('https://d37ci6vzurychx.cloudfront.net/trip-data/yellow_tripdata_2023-02.parquet')\n",
    "\n",
    "# Length of observations in df_train and df_val\n",
    "len(df_train), len(df_val)"
   ]
  },
  {
   "cell_type": "markdown",
   "id": "20703f7e-b121-45b0-af0d-48035e646e2f",
   "metadata": {},
   "source": [
    "### Reduce the training and validation datasets to decrease memory consumption due to memory limitations"
   ]
  },
  {
   "cell_type": "code",
   "execution_count": 11,
   "id": "b6eb256a-51e8-4866-b3d5-ca5efec36be4",
   "metadata": {},
   "outputs": [
    {
     "name": "stdout",
     "output_type": "stream",
     "text": [
      "Reduced df_train shape: (2106421, 20), Reduced df_val shape: (1999166, 20)\n"
     ]
    }
   ],
   "source": [
    "# Reduce df_train by 30%\n",
    "df_train = df_train.sample(frac=0.7, random_state=42)\n",
    "\n",
    "# Reduce df_val by 30%\n",
    "df_val = df_val.sample(frac=0.7, random_state=42)\n",
    "\n",
    "# Print the shapes of the reduced DataFrames to verify the reduction\n",
    "print(f\"Reduced df_train shape: {df_train.shape}, Reduced df_val shape: {df_val.shape}\")"
   ]
  },
  {
   "cell_type": "markdown",
   "id": "0e603500-36ff-4865-8fd0-35d02749638d",
   "metadata": {},
   "source": [
    "### a. Consider only 'PULocationID' and 'DOLocationID' "
   ]
  },
  {
   "cell_type": "code",
   "execution_count": 12,
   "id": "d5945c67-92aa-46b4-98d5-4b5c1b27824c",
   "metadata": {},
   "outputs": [
    {
     "name": "stdout",
     "output_type": "stream",
     "text": [
      "The Root Mean Squared Error (RMSE) between the predicted and actual target values is 7.82\n"
     ]
    }
   ],
   "source": [
    "# Instantiate a DictVectorizer object\n",
    "dv = DictVectorizer()\n",
    "\n",
    "# Convert the categorical columns in the training DataFrame to a list of dictionaries\n",
    "train_dicts = df_train[categorical].to_dict(orient='records')\n",
    "\n",
    "# Transform the list of dictionaries into a sparse matrix with DictVectorizer, fitting it to the training data\n",
    "X_train = dv.fit_transform(train_dicts)\n",
    "\n",
    "# Convert the categorical columns in the validation DataFrame to a list of dictionaries\n",
    "val_dicts = df_val[categorical].to_dict(orient='records')\n",
    "\n",
    "# Transform the list of dictionaries into a sparse matrix with d pre-fitted DictVectorizer, applied to d validation data\n",
    "X_val = dv.transform(val_dicts)\n",
    "\n",
    "# Define the target variable\n",
    "target = 'duration'\n",
    "\n",
    "# Extract the target variable from the training DataFrame and convert it to a NumPy array\n",
    "y_train = df_train[target].values\n",
    "\n",
    "# Extract the target variable from the validation DataFrame and convert it to a NumPy array\n",
    "y_val = df_val[target].values\n",
    "\n",
    "# Instantiate a Linear Regression model\n",
    "lr = LinearRegression()\n",
    "\n",
    "# Fit the Linear Regression model to the training data\n",
    "lr.fit(X_train, y_train)\n",
    "\n",
    "# Use the trained model to predict target values for the validation data\n",
    "y_pred = lr.predict(X_val)\n",
    "\n",
    "# Calculate the Root Mean Squared Error (RMSE) between the predicted and actual target values\n",
    "rmse = mean_squared_error(y_val, y_pred, squared=False)\n",
    "\n",
    "# Print the Root Mean Squared Error (RMSE) between the predicted and actual target values\n",
    "print(f\"The Root Mean Squared Error (RMSE) between the predicted and actual target values is {round(rmse, 2)}\")"
   ]
  },
  {
   "cell_type": "markdown",
   "id": "c1c2080f-b977-4f44-91d2-ef559a3e68b0",
   "metadata": {},
   "source": [
    "###  Concatenate 'PULocationID' and 'DOLocationID'"
   ]
  },
  {
   "cell_type": "code",
   "execution_count": 13,
   "id": "59a57763-500c-4561-bd89-e03711e5a698",
   "metadata": {},
   "outputs": [
    {
     "name": "stdout",
     "output_type": "stream",
     "text": [
      "The Root Mean Squared Error (RMSE) between the predicted and actual target values is 5.22\n"
     ]
    }
   ],
   "source": [
    "# Concatenate 'PULocationID' and 'DOLocationID' columns with '_' separator and store in a new column 'PU_DO'\n",
    "df_train['PU_DO'] = df_train['PULocationID'] + '_' + df_train['DOLocationID']\n",
    "\n",
    "# Concatenate 'PULocationID' and 'DOLocationID' columns with '_' separator and store in a new column 'PU_DO'\n",
    "df_val['PU_DO'] = df_val['PULocationID'] + '_' + df_val['DOLocationID']\n",
    "\n",
    "# Define a list containing the name of the categorical column(s)\n",
    "categorical = ['PU_DO'] #'PULocationID', 'DOLocationID']\n",
    "\n",
    "# Instantiate a DictVectorizer object\n",
    "dv = DictVectorizer()\n",
    "\n",
    "# Convert the categorical columns in the training DataFrame to a list of dictionaries\n",
    "train_dicts = df_train[categorical].to_dict(orient='records')\n",
    "\n",
    "# Transform the list of dictionaries into a sparse matrix with DictVectorizer, fitting it to the training data\n",
    "X_train = dv.fit_transform(train_dicts)\n",
    "\n",
    "# Convert the categorical columns in the validation DataFrame to a list of dictionaries\n",
    "val_dicts = df_val[categorical].to_dict(orient='records')\n",
    "\n",
    "# Transform the list of dictionaries into a sparse matrix with d pre-fitted DictVectorizer, applied to d validation data\n",
    "X_val = dv.transform(val_dicts)\n",
    "\n",
    "# Define the target variable\n",
    "target = 'duration'\n",
    "\n",
    "# Extract the target variable from the training DataFrame and convert it to a NumPy array\n",
    "y_train = df_train[target].values\n",
    "\n",
    "# Extract the target variable from the validation DataFrame and convert it to a NumPy array\n",
    "y_val = df_val[target].values\n",
    "\n",
    "# Instantiate a Linear Regression model\n",
    "lr = LinearRegression()\n",
    "\n",
    "# Fit the Linear Regression model to the training data\n",
    "lr.fit(X_train, y_train)\n",
    "\n",
    "# Use the trained model to predict target values for the validation data\n",
    "y_pred = lr.predict(X_val)\n",
    "\n",
    "# Calculate the Root Mean Squared Error (RMSE) between the predicted and actual target values\n",
    "rmse = mean_squared_error(y_val, y_pred, squared=False)\n",
    "\n",
    "# Print the Root Mean Squared Error (RMSE) between the predicted and actual target values\n",
    "print(f\"The Root Mean Squared Error (RMSE) between the predicted and actual target values is {round(rmse, 2)}\")"
   ]
  },
  {
   "cell_type": "markdown",
   "id": "c3069972-4c6b-424a-b0ee-3a13db460c8f",
   "metadata": {},
   "source": [
    "### Add a numerical feature, 'trip_distance'"
   ]
  },
  {
   "cell_type": "code",
   "execution_count": 14,
   "id": "400e18a7-8230-4c58-a1f1-a293e1c1b6c6",
   "metadata": {},
   "outputs": [
    {
     "name": "stdout",
     "output_type": "stream",
     "text": [
      "The Root Mean Squared Error (RMSE) between the predicted and actual target values is 5.28\n"
     ]
    }
   ],
   "source": [
    "# Add a numeriacal variable, 'trip_distance'\n",
    "numerical = ['trip_distance']\n",
    "\n",
    "# Instantiate a DictVectorizer object\n",
    "dv = DictVectorizer()\n",
    "\n",
    "# Convert the columns in the training DataFrame to a list of dictionaries\n",
    "train_dicts = df_train[categorical + numerical].to_dict(orient='records')\n",
    "\n",
    "# Transform the list of dictionaries into a sparse matrix with DictVectorizer, fitting it to the training data\n",
    "X_train = dv.fit_transform(train_dicts)\n",
    "\n",
    "# Convert the columns in the validation DataFrame to a list of dictionaries\n",
    "val_dicts = df_val[categorical + numerical].to_dict(orient='records')\n",
    "\n",
    "# Transform the list of dictionaries into a sparse matrix with d pre-fitted DictVectorizer, applied to d validation data\n",
    "X_val = dv.transform(val_dicts)\n",
    "\n",
    "# Define the target variable\n",
    "target = 'duration'\n",
    "\n",
    "# Extract the target variable from the training DataFrame and convert it to a NumPy array\n",
    "y_train = df_train[target].values\n",
    "\n",
    "# Extract the target variable from the validation DataFrame and convert it to a NumPy array\n",
    "y_val = df_val[target].values\n",
    "\n",
    "# Instantiate a Linear Regression model\n",
    "lr = LinearRegression()\n",
    "\n",
    "# Fit the Linear Regression model to the training data\n",
    "lr.fit(X_train, y_train)\n",
    "\n",
    "# Use the trained model to predict target values for the validation data\n",
    "y_pred = lr.predict(X_val)\n",
    "\n",
    "# Calculate the Root Mean Squared Error (RMSE) between the predicted and actual target values\n",
    "rmse = mean_squared_error(y_val, y_pred, squared=False)\n",
    "\n",
    "# Print the Root Mean Squared Error (RMSE) between the predicted and actual target values\n",
    "print(f\"The Root Mean Squared Error (RMSE) between the predicted and actual target values is {round(rmse, 2)}\")"
   ]
  },
  {
   "cell_type": "code",
   "execution_count": 15,
   "id": "528fa875-c54a-4b33-9d22-b4018ae66d96",
   "metadata": {},
   "outputs": [
    {
     "data": {
      "text/plain": [
       "9.400827678471593"
      ]
     },
     "execution_count": 15,
     "metadata": {},
     "output_type": "execute_result"
    }
   ],
   "source": [
    "lr = Lasso(0.01)\n",
    "lr.fit(X_train, y_train)\n",
    "\n",
    "y_pred = lr.predict(X_val)\n",
    "\n",
    "mean_squared_error(y_val, y_pred, squared=False)"
   ]
  },
  {
   "cell_type": "code",
   "execution_count": null,
   "id": "bd8abb16-027e-45cc-8440-ef5fa1bb2459",
   "metadata": {},
   "outputs": [],
   "source": []
  }
 ],
 "metadata": {
  "kernelspec": {
   "display_name": "Python 3 (ipykernel)",
   "language": "python",
   "name": "python3"
  },
  "language_info": {
   "codemirror_mode": {
    "name": "ipython",
    "version": 3
   },
   "file_extension": ".py",
   "mimetype": "text/x-python",
   "name": "python",
   "nbconvert_exporter": "python",
   "pygments_lexer": "ipython3",
   "version": "3.11.7"
  }
 },
 "nbformat": 4,
 "nbformat_minor": 5
}
